{
 "cells": [
  {
   "cell_type": "markdown",
   "metadata": {},
   "source": [
    "# 4) 구현 내용 설명"
   ]
  },
  {
   "cell_type": "markdown",
   "metadata": {},
   "source": [
    "### pandas import 하기"
   ]
  },
  {
   "cell_type": "code",
   "execution_count": 1,
   "metadata": {},
   "outputs": [],
   "source": [
    "# (오픈소스)\n",
    "import pandas as pd"
   ]
  },
  {
   "cell_type": "markdown",
   "metadata": {},
   "source": [
    "### 엑셀파일 열기"
   ]
  },
  {
   "cell_type": "code",
   "execution_count": 2,
   "metadata": {
    "scrolled": true
   },
   "outputs": [
    {
     "data": {
      "text/html": [
       "<div>\n",
       "<style scoped>\n",
       "    .dataframe tbody tr th:only-of-type {\n",
       "        vertical-align: middle;\n",
       "    }\n",
       "\n",
       "    .dataframe tbody tr th {\n",
       "        vertical-align: top;\n",
       "    }\n",
       "\n",
       "    .dataframe thead th {\n",
       "        text-align: right;\n",
       "    }\n",
       "</style>\n",
       "<table border=\"1\" class=\"dataframe\">\n",
       "  <thead>\n",
       "    <tr style=\"text-align: right;\">\n",
       "      <th></th>\n",
       "      <th>구청명</th>\n",
       "      <th>법정동명</th>\n",
       "      <th>등록품종수</th>\n",
       "      <th>등록개체수</th>\n",
       "      <th>소유자수</th>\n",
       "    </tr>\n",
       "  </thead>\n",
       "  <tbody>\n",
       "    <tr>\n",
       "      <th>0</th>\n",
       "      <td>권선구</td>\n",
       "      <td>탑동</td>\n",
       "      <td>57</td>\n",
       "      <td>1169</td>\n",
       "      <td>872</td>\n",
       "    </tr>\n",
       "    <tr>\n",
       "      <th>1</th>\n",
       "      <td>권선구</td>\n",
       "      <td>평동</td>\n",
       "      <td>29</td>\n",
       "      <td>117</td>\n",
       "      <td>91</td>\n",
       "    </tr>\n",
       "    <tr>\n",
       "      <th>2</th>\n",
       "      <td>권선구</td>\n",
       "      <td>고색동</td>\n",
       "      <td>46</td>\n",
       "      <td>818</td>\n",
       "      <td>615</td>\n",
       "    </tr>\n",
       "  </tbody>\n",
       "</table>\n",
       "</div>"
      ],
      "text/plain": [
       "   구청명 법정동명  등록품종수  등록개체수  소유자수\n",
       "0  권선구   탑동     57   1169   872\n",
       "1  권선구   평동     29    117    91\n",
       "2  권선구  고색동     46    818   615"
      ]
     },
     "execution_count": 2,
     "metadata": {},
     "output_type": "execute_result"
    }
   ],
   "source": [
    "# 엑셀 파일 열어보기(오픈소스)\n",
    "new_Companion_Animals_Suwon = pd.read_excel('경기도_수원시_반려동물등록현황_20191010.xlsx',\n",
    "                                             usecols = 'C, D, E, F, G', encoding='utf-8')\n",
    "\n",
    "# 파일을 사용하기 쉬운 변수로 바꾸기(직접구현)\n",
    "Chart_0 = new_Companion_Animals_Suwon\n",
    "\n",
    "# 파일 앞부분 출력해보기(오픈소스)\n",
    "Chart_0.head(3) "
   ]
  },
  {
   "cell_type": "markdown",
   "metadata": {},
   "source": [
    "### 반려동물 개체수 많은 순으로 정렬하기"
   ]
  },
  {
   "cell_type": "code",
   "execution_count": 3,
   "metadata": {},
   "outputs": [
    {
     "name": "stdout",
     "output_type": "stream",
     "text": [
      "[1, 2, 3, 4, 5, 6, 7, 8, 9, 10, 11, 12, 13, 14, 15, 16, 17, 18, 19, 20, 21, 22, 23, 24, 25, 26, 27, 28, 29, 30, 31, 32, 33, 34, 35, 36, 37, 38, 39, 40, 41, 42, 43, 44, 45, 46, 47, 48, 49, 50, 51, 52, 53, 54, 55]\n"
     ]
    }
   ],
   "source": [
    "# 순위 표시용 리스트 만들기(직접구현)\n",
    "list = []\n",
    "for i in range(1, 56):\n",
    "    list.append(i)\n",
    "    i+=1\n",
    "    \n",
    "print(list)"
   ]
  },
  {
   "cell_type": "code",
   "execution_count": 4,
   "metadata": {},
   "outputs": [
    {
     "data": {
      "text/html": [
       "<div>\n",
       "<style scoped>\n",
       "    .dataframe tbody tr th:only-of-type {\n",
       "        vertical-align: middle;\n",
       "    }\n",
       "\n",
       "    .dataframe tbody tr th {\n",
       "        vertical-align: top;\n",
       "    }\n",
       "\n",
       "    .dataframe thead th {\n",
       "        text-align: right;\n",
       "    }\n",
       "</style>\n",
       "<table border=\"1\" class=\"dataframe\">\n",
       "  <thead>\n",
       "    <tr style=\"text-align: right;\">\n",
       "      <th></th>\n",
       "      <th>구청명</th>\n",
       "      <th>법정동명</th>\n",
       "      <th>등록품종수</th>\n",
       "      <th>등록개체수</th>\n",
       "      <th>소유자수</th>\n",
       "      <th>순위</th>\n",
       "    </tr>\n",
       "    <tr>\n",
       "      <th>법정동명</th>\n",
       "      <th></th>\n",
       "      <th></th>\n",
       "      <th></th>\n",
       "      <th></th>\n",
       "      <th></th>\n",
       "      <th></th>\n",
       "    </tr>\n",
       "  </thead>\n",
       "  <tbody>\n",
       "    <tr>\n",
       "      <th>매탄동</th>\n",
       "      <td>영통구</td>\n",
       "      <td>매탄동</td>\n",
       "      <td>78</td>\n",
       "      <td>4321</td>\n",
       "      <td>3434</td>\n",
       "      <td>1</td>\n",
       "    </tr>\n",
       "    <tr>\n",
       "      <th>권선동</th>\n",
       "      <td>권선구</td>\n",
       "      <td>권선동</td>\n",
       "      <td>74</td>\n",
       "      <td>4003</td>\n",
       "      <td>3074</td>\n",
       "      <td>2</td>\n",
       "    </tr>\n",
       "    <tr>\n",
       "      <th>정자동</th>\n",
       "      <td>장안구</td>\n",
       "      <td>정자동</td>\n",
       "      <td>73</td>\n",
       "      <td>3798</td>\n",
       "      <td>3034</td>\n",
       "      <td>3</td>\n",
       "    </tr>\n",
       "  </tbody>\n",
       "</table>\n",
       "</div>"
      ],
      "text/plain": [
       "      구청명 법정동명  등록품종수  등록개체수  소유자수  순위\n",
       "법정동명                                  \n",
       "매탄동   영통구  매탄동     78   4321  3434   1\n",
       "권선동   권선구  권선동     74   4003  3074   2\n",
       "정자동   장안구  정자동     73   3798  3034   3"
      ]
     },
     "execution_count": 4,
     "metadata": {},
     "output_type": "execute_result"
    }
   ],
   "source": [
    "# 반려동물 개체수 많은 순으로 정렬하기(Chart_1) (오픈소스)\n",
    "Chart_1 = Chart_0.sort_values( by = '등록개체수', ascending = False)\n",
    "\n",
    "# 나중 데이터 정리를 쉽게 하기 위해 데이터의 인덱스 바꾸기, 요소 '순위' 추가하기(오픈소스)\n",
    "Chart_1.index = Chart_1['법정동명']\n",
    "Chart_1['순위']= list\n",
    "\n",
    "# Chart_1 앞부분 출력해보기(오픈소스)\n",
    "Chart_1.head(3)"
   ]
  },
  {
   "cell_type": "code",
   "execution_count": 5,
   "metadata": {},
   "outputs": [
    {
     "data": {
      "text/html": [
       "<div>\n",
       "<style scoped>\n",
       "    .dataframe tbody tr th:only-of-type {\n",
       "        vertical-align: middle;\n",
       "    }\n",
       "\n",
       "    .dataframe tbody tr th {\n",
       "        vertical-align: top;\n",
       "    }\n",
       "\n",
       "    .dataframe thead th {\n",
       "        text-align: right;\n",
       "    }\n",
       "</style>\n",
       "<table border=\"1\" class=\"dataframe\">\n",
       "  <thead>\n",
       "    <tr style=\"text-align: right;\">\n",
       "      <th></th>\n",
       "      <th>순위</th>\n",
       "      <th>법정동명</th>\n",
       "      <th>등록개체수</th>\n",
       "    </tr>\n",
       "  </thead>\n",
       "  <tbody>\n",
       "    <tr>\n",
       "      <th>1</th>\n",
       "      <td>1</td>\n",
       "      <td>매탄동</td>\n",
       "      <td>4321</td>\n",
       "    </tr>\n",
       "    <tr>\n",
       "      <th>2</th>\n",
       "      <td>2</td>\n",
       "      <td>권선동</td>\n",
       "      <td>4003</td>\n",
       "    </tr>\n",
       "    <tr>\n",
       "      <th>3</th>\n",
       "      <td>3</td>\n",
       "      <td>정자동</td>\n",
       "      <td>3798</td>\n",
       "    </tr>\n",
       "  </tbody>\n",
       "</table>\n",
       "</div>"
      ],
      "text/plain": [
       "   순위 법정동명  등록개체수\n",
       "1   1  매탄동   4321\n",
       "2   2  권선동   4003\n",
       "3   3  정자동   3798"
      ]
     },
     "execution_count": 5,
     "metadata": {},
     "output_type": "execute_result"
    }
   ],
   "source": [
    "#새 표의 순위, 법정동명, 등록개체수만 따로 표시하기(오픈소스)\n",
    "Chart_fin_1 = Chart_1.loc[:, ['순위', '법정동명', '등록개체수']]\n",
    "Chart_fin_1.index = list\n",
    "\n",
    "#최종 표인 Chart_fin_1 앞부분 출력해보기(오픈소스)\n",
    "Chart_fin_1.head(3)"
   ]
  },
  {
   "cell_type": "code",
   "execution_count": 6,
   "metadata": {},
   "outputs": [],
   "source": [
    "#입력 동의 반려동물 개체수 정보를 주는 함수 만들기(직접구현)\n",
    "def number_of_companion_animals(place):\n",
    "    a = Chart_1.loc[place, '등록개체수']\n",
    "    b = Chart_1.loc[place, '순위']\n",
    "    if 1 <= b <=18:\n",
    "        c = '많은'\n",
    "        \n",
    "    elif 19 <= b <= 37:\n",
    "        c = '보통인'\n",
    "    \n",
    "    else:\n",
    "        c = '적은'\n",
    "        \n",
    "    res = \"{}은 반려동물 등록 개체수가 {} 마리로, 수원시 기준 {}번째로 많으며 개체수가 {} 편입니다.\".format(place, a, b, c)\n",
    "    return res"
   ]
  },
  {
   "cell_type": "markdown",
   "metadata": {},
   "source": [
    "### 한 사람이 평균적으로 기르는 반려동물 수 많은 순으로 정렬하기 "
   ]
  },
  {
   "cell_type": "code",
   "execution_count": 7,
   "metadata": {},
   "outputs": [
    {
     "data": {
      "text/html": [
       "<div>\n",
       "<style scoped>\n",
       "    .dataframe tbody tr th:only-of-type {\n",
       "        vertical-align: middle;\n",
       "    }\n",
       "\n",
       "    .dataframe tbody tr th {\n",
       "        vertical-align: top;\n",
       "    }\n",
       "\n",
       "    .dataframe thead th {\n",
       "        text-align: right;\n",
       "    }\n",
       "</style>\n",
       "<table border=\"1\" class=\"dataframe\">\n",
       "  <thead>\n",
       "    <tr style=\"text-align: right;\">\n",
       "      <th></th>\n",
       "      <th>구청명</th>\n",
       "      <th>법정동명</th>\n",
       "      <th>등록품종수</th>\n",
       "      <th>등록개체수</th>\n",
       "      <th>소유자수</th>\n",
       "      <th>한사람당동물수</th>\n",
       "      <th>순위</th>\n",
       "    </tr>\n",
       "    <tr>\n",
       "      <th>법정동명</th>\n",
       "      <th></th>\n",
       "      <th></th>\n",
       "      <th></th>\n",
       "      <th></th>\n",
       "      <th></th>\n",
       "      <th></th>\n",
       "      <th></th>\n",
       "    </tr>\n",
       "  </thead>\n",
       "  <tbody>\n",
       "    <tr>\n",
       "      <th>매산로1가</th>\n",
       "      <td>팔달구</td>\n",
       "      <td>매산로1가</td>\n",
       "      <td>28</td>\n",
       "      <td>149</td>\n",
       "      <td>89</td>\n",
       "      <td>1.674157</td>\n",
       "      <td>1</td>\n",
       "    </tr>\n",
       "    <tr>\n",
       "      <th>교동</th>\n",
       "      <td>팔달구</td>\n",
       "      <td>교동</td>\n",
       "      <td>34</td>\n",
       "      <td>168</td>\n",
       "      <td>106</td>\n",
       "      <td>1.584906</td>\n",
       "      <td>2</td>\n",
       "    </tr>\n",
       "    <tr>\n",
       "      <th>하광교동</th>\n",
       "      <td>장안구</td>\n",
       "      <td>하광교동</td>\n",
       "      <td>13</td>\n",
       "      <td>19</td>\n",
       "      <td>12</td>\n",
       "      <td>1.583333</td>\n",
       "      <td>3</td>\n",
       "    </tr>\n",
       "  </tbody>\n",
       "</table>\n",
       "</div>"
      ],
      "text/plain": [
       "       구청명   법정동명  등록품종수  등록개체수  소유자수   한사람당동물수  순위\n",
       "법정동명                                               \n",
       "매산로1가  팔달구  매산로1가     28    149    89  1.674157   1\n",
       "교동     팔달구     교동     34    168   106  1.584906   2\n",
       "하광교동   장안구   하광교동     13     19    12  1.583333   3"
      ]
     },
     "execution_count": 7,
     "metadata": {},
     "output_type": "execute_result"
    }
   ],
   "source": [
    "# 등록개체수/소유자수 계산해서 새 표 Chart_2에 추가하기(오픈소스)\n",
    "Chart_2 = Chart_0\n",
    "Chart_2['한사람당동물수']=Chart_2['등록개체수']/Chart_2['소유자수']\n",
    "\n",
    "#등록개체수/소유자수 큰 순서대로 정렬하기(오픈소스)\n",
    "Chart_2 = Chart_2.sort_values( by = '한사람당동물수', ascending = False)\n",
    "\n",
    "#hart_2의 index를 법정동명으로 바꾸고, 순위 추가하기(오픈소스)\n",
    "Chart_2.index = Chart_2['법정동명']\n",
    "Chart_2['순위']= list\n",
    "Chart_2.head(3)"
   ]
  },
  {
   "cell_type": "code",
   "execution_count": 8,
   "metadata": {},
   "outputs": [
    {
     "data": {
      "text/html": [
       "<div>\n",
       "<style scoped>\n",
       "    .dataframe tbody tr th:only-of-type {\n",
       "        vertical-align: middle;\n",
       "    }\n",
       "\n",
       "    .dataframe tbody tr th {\n",
       "        vertical-align: top;\n",
       "    }\n",
       "\n",
       "    .dataframe thead th {\n",
       "        text-align: right;\n",
       "    }\n",
       "</style>\n",
       "<table border=\"1\" class=\"dataframe\">\n",
       "  <thead>\n",
       "    <tr style=\"text-align: right;\">\n",
       "      <th></th>\n",
       "      <th>순위</th>\n",
       "      <th>법정동명</th>\n",
       "      <th>한사람당동물수</th>\n",
       "    </tr>\n",
       "  </thead>\n",
       "  <tbody>\n",
       "    <tr>\n",
       "      <th>1</th>\n",
       "      <td>1</td>\n",
       "      <td>매산로1가</td>\n",
       "      <td>1.674157</td>\n",
       "    </tr>\n",
       "    <tr>\n",
       "      <th>2</th>\n",
       "      <td>2</td>\n",
       "      <td>교동</td>\n",
       "      <td>1.584906</td>\n",
       "    </tr>\n",
       "    <tr>\n",
       "      <th>3</th>\n",
       "      <td>3</td>\n",
       "      <td>하광교동</td>\n",
       "      <td>1.583333</td>\n",
       "    </tr>\n",
       "  </tbody>\n",
       "</table>\n",
       "</div>"
      ],
      "text/plain": [
       "   순위   법정동명   한사람당동물수\n",
       "1   1  매산로1가  1.674157\n",
       "2   2     교동  1.584906\n",
       "3   3   하광교동  1.583333"
      ]
     },
     "execution_count": 8,
     "metadata": {},
     "output_type": "execute_result"
    }
   ],
   "source": [
    "#Chart_2의 순위, 법정동명, 한사람당동물수만 따로 표시하기(오픈소스)\n",
    "Chart_fin_2 = Chart_2.loc[:, ['순위', '법정동명', '한사람당동물수']]\n",
    "Chart_fin_2.index = list\n",
    "\n",
    "#최종 표인 Chart_fin_2 앞부분 출력해보기(오픈소스)\n",
    "Chart_fin_2.head(3)"
   ]
  },
  {
   "cell_type": "code",
   "execution_count": 9,
   "metadata": {},
   "outputs": [],
   "source": [
    "# 입력 동의 한사람당 기르는 평균 반려동물 개체수 정보를 알려주는 함수(직접구현)\n",
    "\n",
    "def number_of_animals_number_of_people_ratio(place):\n",
    "    a = Chart_2.loc[place, '한사람당동물수']\n",
    "    b = Chart_2.loc[place, '순위']\n",
    "    if 1 <= b <=18:\n",
    "        c = '높은'\n",
    "        \n",
    "    elif 19 <= b <= 37:\n",
    "        c = '보통인'\n",
    "    \n",
    "    else:\n",
    "        c = '낮은'\n",
    "        \n",
    "    res = \"{}은 한사람이 키우는 반려동물 개체수가 평균 {:4f}마리로, 수원시 기준 {} 번째로 높으며 그 수치가 {} 편입니다.\".format(place, a, b, c)\n",
    "    return res"
   ]
  },
  {
   "cell_type": "markdown",
   "metadata": {},
   "source": [
    "### 반려동물 품종수 많은 순으로 정렬하기"
   ]
  },
  {
   "cell_type": "code",
   "execution_count": 10,
   "metadata": {},
   "outputs": [
    {
     "data": {
      "text/html": [
       "<div>\n",
       "<style scoped>\n",
       "    .dataframe tbody tr th:only-of-type {\n",
       "        vertical-align: middle;\n",
       "    }\n",
       "\n",
       "    .dataframe tbody tr th {\n",
       "        vertical-align: top;\n",
       "    }\n",
       "\n",
       "    .dataframe thead th {\n",
       "        text-align: right;\n",
       "    }\n",
       "</style>\n",
       "<table border=\"1\" class=\"dataframe\">\n",
       "  <thead>\n",
       "    <tr style=\"text-align: right;\">\n",
       "      <th></th>\n",
       "      <th>구청명</th>\n",
       "      <th>법정동명</th>\n",
       "      <th>등록품종수</th>\n",
       "      <th>등록개체수</th>\n",
       "      <th>소유자수</th>\n",
       "      <th>한사람당동물수</th>\n",
       "      <th>순위</th>\n",
       "    </tr>\n",
       "    <tr>\n",
       "      <th>법정동명</th>\n",
       "      <th></th>\n",
       "      <th></th>\n",
       "      <th></th>\n",
       "      <th></th>\n",
       "      <th></th>\n",
       "      <th></th>\n",
       "      <th></th>\n",
       "    </tr>\n",
       "  </thead>\n",
       "  <tbody>\n",
       "    <tr>\n",
       "      <th>세류동</th>\n",
       "      <td>권선구</td>\n",
       "      <td>세류동</td>\n",
       "      <td>80</td>\n",
       "      <td>2981</td>\n",
       "      <td>2219</td>\n",
       "      <td>1.343398</td>\n",
       "      <td>1</td>\n",
       "    </tr>\n",
       "    <tr>\n",
       "      <th>매탄동</th>\n",
       "      <td>영통구</td>\n",
       "      <td>매탄동</td>\n",
       "      <td>78</td>\n",
       "      <td>4321</td>\n",
       "      <td>3434</td>\n",
       "      <td>1.258299</td>\n",
       "      <td>2</td>\n",
       "    </tr>\n",
       "    <tr>\n",
       "      <th>권선동</th>\n",
       "      <td>권선구</td>\n",
       "      <td>권선동</td>\n",
       "      <td>74</td>\n",
       "      <td>4003</td>\n",
       "      <td>3074</td>\n",
       "      <td>1.302212</td>\n",
       "      <td>3</td>\n",
       "    </tr>\n",
       "  </tbody>\n",
       "</table>\n",
       "</div>"
      ],
      "text/plain": [
       "      구청명 법정동명  등록품종수  등록개체수  소유자수   한사람당동물수  순위\n",
       "법정동명                                            \n",
       "세류동   권선구  세류동     80   2981  2219  1.343398   1\n",
       "매탄동   영통구  매탄동     78   4321  3434  1.258299   2\n",
       "권선동   권선구  권선동     74   4003  3074  1.302212   3"
      ]
     },
     "execution_count": 10,
     "metadata": {},
     "output_type": "execute_result"
    }
   ],
   "source": [
    "#반려동물 품종수 많은 순서대로 정렬하기(Chart_3) (오픈소스)\n",
    "Chart_3 = Chart_0.sort_values( by = '등록품종수', ascending = False)\n",
    "\n",
    "#index를 법정동명으로 바꾸고, 요소 '순위' 추가하기(오픈소스)\n",
    "Chart_3.index = Chart_3['법정동명']\n",
    "Chart_3['순위']= list\n",
    "\n",
    "# 새 표 Chart_3 앞부분 출력해보기(오픈소스)\n",
    "Chart_3.head(3)"
   ]
  },
  {
   "cell_type": "code",
   "execution_count": 11,
   "metadata": {},
   "outputs": [
    {
     "data": {
      "text/html": [
       "<div>\n",
       "<style scoped>\n",
       "    .dataframe tbody tr th:only-of-type {\n",
       "        vertical-align: middle;\n",
       "    }\n",
       "\n",
       "    .dataframe tbody tr th {\n",
       "        vertical-align: top;\n",
       "    }\n",
       "\n",
       "    .dataframe thead th {\n",
       "        text-align: right;\n",
       "    }\n",
       "</style>\n",
       "<table border=\"1\" class=\"dataframe\">\n",
       "  <thead>\n",
       "    <tr style=\"text-align: right;\">\n",
       "      <th></th>\n",
       "      <th>순위</th>\n",
       "      <th>법정동명</th>\n",
       "      <th>등록품종수</th>\n",
       "    </tr>\n",
       "  </thead>\n",
       "  <tbody>\n",
       "    <tr>\n",
       "      <th>1</th>\n",
       "      <td>1</td>\n",
       "      <td>세류동</td>\n",
       "      <td>80</td>\n",
       "    </tr>\n",
       "    <tr>\n",
       "      <th>2</th>\n",
       "      <td>2</td>\n",
       "      <td>매탄동</td>\n",
       "      <td>78</td>\n",
       "    </tr>\n",
       "    <tr>\n",
       "      <th>3</th>\n",
       "      <td>3</td>\n",
       "      <td>권선동</td>\n",
       "      <td>74</td>\n",
       "    </tr>\n",
       "  </tbody>\n",
       "</table>\n",
       "</div>"
      ],
      "text/plain": [
       "   순위 법정동명  등록품종수\n",
       "1   1  세류동     80\n",
       "2   2  매탄동     78\n",
       "3   3  권선동     74"
      ]
     },
     "execution_count": 11,
     "metadata": {},
     "output_type": "execute_result"
    }
   ],
   "source": [
    "#Chart_3의 순위, 법정동명, 등록품종수만 따로 표시하기(오픈소스)\n",
    "Chart_fin_3 = Chart_3.loc[:, ['순위', '법정동명', '등록품종수']]\n",
    "Chart_fin_3.index = list\n",
    "\n",
    "#최종 표인 Chart_fin_3 앞부분 출력해보기(오픈소스)\n",
    "Chart_fin_3.head(3)"
   ]
  },
  {
   "cell_type": "code",
   "execution_count": 12,
   "metadata": {},
   "outputs": [],
   "source": [
    "# 입력 동의 반려동물 품종수 정보를 알려주는 함수(직접구현)\n",
    "def number_of_breed(place):\n",
    "    a = Chart_3.loc[place, '등록품종수']\n",
    "    b = Chart_3.loc[place, '순위']\n",
    "    if 1 <= b <=18:\n",
    "        c = '많은'\n",
    "        \n",
    "    elif 19 <= b <= 37:\n",
    "        c = '보통인'\n",
    "    \n",
    "    else:\n",
    "        c = '적은'\n",
    "        \n",
    "    res = \"{}은 등록 품종의 수가 {}종으로, 수원시 기준 {}번째로 많으며 그 종류가 {} 편입니다.\".format(place, a, b, c)\n",
    "    return res"
   ]
  },
  {
   "cell_type": "markdown",
   "metadata": {
    "scrolled": true
   },
   "source": [
    "### pandas의 matplotlib을 이용한 함수에서 한글이 지원되지 않아 넣은 부분"
   ]
  },
  {
   "cell_type": "code",
   "execution_count": 13,
   "metadata": {},
   "outputs": [],
   "source": [
    "# (오픈소스)\n",
    "import matplotlib.pyplot as plt\n",
    "%matplotlib inline\n",
    "import platform\n",
    "\n",
    "from matplotlib import font_manager, rc\n",
    "plt.rcParams['axes.unicode_minus'] = False\n",
    "\n",
    "if platform.system() == 'Windows':\n",
    "    path = \"c:\\Windows\\Fonts\\malgun.TTF\"\n",
    "    font_name = font_manager.FontProperties(fname=path).get_name()\n",
    "    rc('font', family=font_name)\n"
   ]
  },
  {
   "cell_type": "markdown",
   "metadata": {},
   "source": [
    "### 입력한 동의 반려동물 분포 정보를 알려주는 함수 companion_animal_info() 만들기"
   ]
  },
  {
   "cell_type": "code",
   "execution_count": 14,
   "metadata": {},
   "outputs": [],
   "source": [
    "# (직접구현)\n",
    "place_list = Chart_0['법정동명'].values\n",
    "\n",
    "def companion_animal_info():\n",
    "    a = input(\"반려동물 분포 정보를 알고 싶은 수원시 내의 동 한개를 입력해주세요: \")\n",
    "    \n",
    "    while(1):\n",
    "        if a in place_list:\n",
    "            break\n",
    "        else:\n",
    "            a = input(\"수원시 내의 동 한개를 입력해주세요: \")\n",
    "    \n",
    "    X = number_of_companion_animals(a)\n",
    "    Y = number_of_animals_number_of_people_ratio(a)\n",
    "    Z = number_of_breed(a)\n",
    "    \n",
    "    print(\"\\n<{}의 반려동물 분포 정보입니다>\\n\".format(a))\n",
    "    print(X)      \n",
    "    print(Y)    \n",
    "    print(Z)\n",
    "    print()\n",
    "    \n",
    "    b = input(\"다른 동의 반려동물 분포정보를 알고 싶으시면 '1'을, 프로그램을 종료하고 싶으시면 '0'을 입력해주세요 \")\n",
    "    \n",
    "    while(1):\n",
    "        if b == '1':\n",
    "            companion_animal_info()\n",
    "            break\n",
    "            \n",
    "        elif b == '0':\n",
    "            print(\"\\n프로그램을 이용해주셔서 감사합니다\")\n",
    "            break\n",
    "        \n",
    "        else:\n",
    "            b = input(\"1 또는 0을 입력해주세요: \")\n",
    "            \n"
   ]
  },
  {
   "cell_type": "markdown",
   "metadata": {},
   "source": [
    "### 등록개체수, 한사람당동물수, 등록품종수 각각 Top 10 나타내는 그래프 출력함수companion_animal_graph() 만들기"
   ]
  },
  {
   "cell_type": "code",
   "execution_count": 15,
   "metadata": {},
   "outputs": [],
   "source": [
    "# (직접구현)\n",
    "def companion_animal_graph(): \n",
    "    print(\"수원시 내 동의 반려동물 개체수 많은 순 Top 10 그래프를 보고 싶으시면 '1'을,\")\n",
    "    print(\"수원시 내 동의 한사람당 기르는 반려동물수 많은 순 Top 10 그래프를 보고 싶으시면 '2'를,\")\n",
    "    print(\"수원시 내 동의 등록품종수가 많은 순 Top 10 그래프를 보고 싶으시면 '3'을.\")\n",
    "    print(\"종료하고 싶으시면 '0'을 입력해주세요: \")\n",
    "    a = input()\n",
    "    \n",
    "    \n",
    "    if a == '1':\n",
    "        x = Chart_1['등록개체수'].head(10).sort_values().plot(kind = 'barh', grid = True, figsize = (10, 5))\n",
    "        plt.show()\n",
    "        print(\"<x축: 등록개체수>\\n\")\n",
    "        companion_animal_graph()\n",
    "    elif a == '2':\n",
    "        x = Chart_2['한사람당동물수'].head(10).sort_values().plot(kind = 'barh', grid = True, figsize = (10, 5))\n",
    "        plt.show()\n",
    "        print(\"<x축: 한사람당 기르는 반려동물수>\\n\")\n",
    "        companion_animal_graph()\n",
    "    elif a == '3':\n",
    "        x = Chart_3['등록품종수'].head(10).sort_values().plot(kind = 'barh', grid = True, figsize = (10, 5))\n",
    "        plt.show()\n",
    "        print(\"<x축: 등록품종수>\\n\")\n",
    "        companion_animal_graph()\n",
    "    elif a == '0':\n",
    "        print(\"\\n프로그램을 이용해주셔서 감사합니다\")\n",
    "    else:\n",
    "        print(\"\\n잘못된 입력입니다!\\n\")\n",
    "        companion_animal_graph()"
   ]
  },
  {
   "cell_type": "markdown",
   "metadata": {},
   "source": [
    "# 5)분석 결과 및 구현 결과"
   ]
  },
  {
   "cell_type": "markdown",
   "metadata": {},
   "source": [
    "### companion_animal_info() 실행 공간"
   ]
  },
  {
   "cell_type": "code",
   "execution_count": 16,
   "metadata": {},
   "outputs": [
    {
     "name": "stdout",
     "output_type": "stream",
     "text": [
      "반려동물 분포 정보를 알고 싶은 수원시 내의 동 한개를 입력해주세요: 매탄동\n",
      "\n",
      "<매탄동의 반려동물 분포 정보입니다>\n",
      "\n",
      "매탄동은 반려동물 등록 개체수가 4321 마리로, 수원시 기준 1번째로 많으며 개체수가 많은 편입니다.\n",
      "매탄동은 한사람이 키우는 반려동물 개체수가 평균 1.258299마리로, 수원시 기준 47 번째로 높으며 그 수치가 낮은 편입니다.\n",
      "매탄동은 등록 품종의 수가 78종으로, 수원시 기준 2번째로 많으며 그 종류가 많은 편입니다.\n",
      "\n",
      "다른 동의 반려동물 분포정보를 알고 싶으시면 '1'을, 프로그램을 종료하고 싶으시면 '0'을 입력해주세요 0\n",
      "\n",
      "프로그램을 이용해주셔서 감사합니다\n"
     ]
    }
   ],
   "source": [
    "# kernel을 전체 restart, re-run하면 이 cell에서 함수가 실행됩니다.\n",
    "companion_animal_info()"
   ]
  },
  {
   "attachments": {
    "image.png": {
     "image/png": "[encoded data removed]"
    }
   },
   "cell_type": "markdown",
   "metadata": {},
   "source": [
    "실행 예시\n",
    "![image.png](attachment:image.png)"
   ]
  },
  {
   "cell_type": "markdown",
   "metadata": {},
   "source": [
    "### companion_animal_graph() 실행 공간"
   ]
  },
  {
   "cell_type": "code",
   "execution_count": 17,
   "metadata": {},
   "outputs": [
    {
     "name": "stdout",
     "output_type": "stream",
     "text": [
      "수원시 내 동의 반려동물 개체수 많은 순 Top 10 그래프를 보고 싶으시면 '1'을,\n",
      "수원시 내 동의 한사람당 기르는 반려동물수 많은 순 Top 10 그래프를 보고 싶으시면 '2'를,\n",
      "수원시 내 동의 등록품종수가 많은 순 Top 10 그래프를 보고 싶으시면 '3'을.\n",
      "종료하고 싶으시면 '0'을 입력해주세요: \n",
      "0\n",
      "\n",
      "프로그램을 이용해주셔서 감사합니다\n"
     ]
    }
   ],
   "source": [
    "# kernel을 전체 restart, re-run하면 companion_animal_info() 함수 실행 이후에 이 함수가 실행됩니다.\n",
    "companion_animal_graph()"
   ]
  },
  {
   "attachments": {
    "image.png": {
     "image/png": "[encoded data removed]"
    }
   },
   "cell_type": "markdown",
   "metadata": {},
   "source": [
    "실행 예시\n",
    "![image.png](attachment:image.png)"
   ]
  },
  {
   "cell_type": "markdown",
   "metadata": {},
   "source": [
    "# 10)  4)의 가공한 데이터 원본"
   ]
  },
  {
   "cell_type": "markdown",
   "metadata": {},
   "source": [
    "### 등록개체수 많은 순으로 정렬한 표"
   ]
  },
  {
   "cell_type": "code",
   "execution_count": 18,
   "metadata": {},
   "outputs": [
    {
     "data": {
      "text/html": [
       "<div>\n",
       "<style scoped>\n",
       "    .dataframe tbody tr th:only-of-type {\n",
       "        vertical-align: middle;\n",
       "    }\n",
       "\n",
       "    .dataframe tbody tr th {\n",
       "        vertical-align: top;\n",
       "    }\n",
       "\n",
       "    .dataframe thead th {\n",
       "        text-align: right;\n",
       "    }\n",
       "</style>\n",
       "<table border=\"1\" class=\"dataframe\">\n",
       "  <thead>\n",
       "    <tr style=\"text-align: right;\">\n",
       "      <th></th>\n",
       "      <th>순위</th>\n",
       "      <th>법정동명</th>\n",
       "      <th>등록개체수</th>\n",
       "    </tr>\n",
       "  </thead>\n",
       "  <tbody>\n",
       "    <tr>\n",
       "      <th>1</th>\n",
       "      <td>1</td>\n",
       "      <td>매탄동</td>\n",
       "      <td>4321</td>\n",
       "    </tr>\n",
       "    <tr>\n",
       "      <th>2</th>\n",
       "      <td>2</td>\n",
       "      <td>권선동</td>\n",
       "      <td>4003</td>\n",
       "    </tr>\n",
       "    <tr>\n",
       "      <th>3</th>\n",
       "      <td>3</td>\n",
       "      <td>정자동</td>\n",
       "      <td>3798</td>\n",
       "    </tr>\n",
       "    <tr>\n",
       "      <th>4</th>\n",
       "      <td>4</td>\n",
       "      <td>영통동</td>\n",
       "      <td>3379</td>\n",
       "    </tr>\n",
       "    <tr>\n",
       "      <th>5</th>\n",
       "      <td>5</td>\n",
       "      <td>세류동</td>\n",
       "      <td>2981</td>\n",
       "    </tr>\n",
       "    <tr>\n",
       "      <th>6</th>\n",
       "      <td>6</td>\n",
       "      <td>인계동</td>\n",
       "      <td>2619</td>\n",
       "    </tr>\n",
       "    <tr>\n",
       "      <th>7</th>\n",
       "      <td>7</td>\n",
       "      <td>조원동</td>\n",
       "      <td>2582</td>\n",
       "    </tr>\n",
       "    <tr>\n",
       "      <th>8</th>\n",
       "      <td>8</td>\n",
       "      <td>화서동</td>\n",
       "      <td>2384</td>\n",
       "    </tr>\n",
       "    <tr>\n",
       "      <th>9</th>\n",
       "      <td>9</td>\n",
       "      <td>망포동</td>\n",
       "      <td>2044</td>\n",
       "    </tr>\n",
       "    <tr>\n",
       "      <th>10</th>\n",
       "      <td>10</td>\n",
       "      <td>우만동</td>\n",
       "      <td>1854</td>\n",
       "    </tr>\n",
       "  </tbody>\n",
       "</table>\n",
       "</div>"
      ],
      "text/plain": [
       "    순위 법정동명  등록개체수\n",
       "1    1  매탄동   4321\n",
       "2    2  권선동   4003\n",
       "3    3  정자동   3798\n",
       "4    4  영통동   3379\n",
       "5    5  세류동   2981\n",
       "6    6  인계동   2619\n",
       "7    7  조원동   2582\n",
       "8    8  화서동   2384\n",
       "9    9  망포동   2044\n",
       "10  10  우만동   1854"
      ]
     },
     "execution_count": 18,
     "metadata": {},
     "output_type": "execute_result"
    }
   ],
   "source": [
    "#위의 두 함수가 실행된 뒤에 표가 나올 것입니다.\n",
    "Chart_fin_1.head(10)"
   ]
  },
  {
   "cell_type": "markdown",
   "metadata": {},
   "source": [
    "###  한사람이 평균적으로 기르는 동물 수 많은 순으로 정렬한 표"
   ]
  },
  {
   "cell_type": "code",
   "execution_count": 19,
   "metadata": {},
   "outputs": [
    {
     "data": {
      "text/html": [
       "<div>\n",
       "<style scoped>\n",
       "    .dataframe tbody tr th:only-of-type {\n",
       "        vertical-align: middle;\n",
       "    }\n",
       "\n",
       "    .dataframe tbody tr th {\n",
       "        vertical-align: top;\n",
       "    }\n",
       "\n",
       "    .dataframe thead th {\n",
       "        text-align: right;\n",
       "    }\n",
       "</style>\n",
       "<table border=\"1\" class=\"dataframe\">\n",
       "  <thead>\n",
       "    <tr style=\"text-align: right;\">\n",
       "      <th></th>\n",
       "      <th>순위</th>\n",
       "      <th>법정동명</th>\n",
       "      <th>한사람당동물수</th>\n",
       "    </tr>\n",
       "  </thead>\n",
       "  <tbody>\n",
       "    <tr>\n",
       "      <th>1</th>\n",
       "      <td>1</td>\n",
       "      <td>매산로1가</td>\n",
       "      <td>1.674157</td>\n",
       "    </tr>\n",
       "    <tr>\n",
       "      <th>2</th>\n",
       "      <td>2</td>\n",
       "      <td>교동</td>\n",
       "      <td>1.584906</td>\n",
       "    </tr>\n",
       "    <tr>\n",
       "      <th>3</th>\n",
       "      <td>3</td>\n",
       "      <td>하광교동</td>\n",
       "      <td>1.583333</td>\n",
       "    </tr>\n",
       "    <tr>\n",
       "      <th>4</th>\n",
       "      <td>4</td>\n",
       "      <td>팔달로1가</td>\n",
       "      <td>1.529412</td>\n",
       "    </tr>\n",
       "    <tr>\n",
       "      <th>5</th>\n",
       "      <td>5</td>\n",
       "      <td>북수동</td>\n",
       "      <td>1.514706</td>\n",
       "    </tr>\n",
       "    <tr>\n",
       "      <th>6</th>\n",
       "      <td>6</td>\n",
       "      <td>영동</td>\n",
       "      <td>1.500000</td>\n",
       "    </tr>\n",
       "    <tr>\n",
       "      <th>7</th>\n",
       "      <td>7</td>\n",
       "      <td>중동</td>\n",
       "      <td>1.500000</td>\n",
       "    </tr>\n",
       "    <tr>\n",
       "      <th>8</th>\n",
       "      <td>8</td>\n",
       "      <td>남수동</td>\n",
       "      <td>1.483333</td>\n",
       "    </tr>\n",
       "    <tr>\n",
       "      <th>9</th>\n",
       "      <td>9</td>\n",
       "      <td>팔달로3가</td>\n",
       "      <td>1.454545</td>\n",
       "    </tr>\n",
       "    <tr>\n",
       "      <th>10</th>\n",
       "      <td>10</td>\n",
       "      <td>이목동</td>\n",
       "      <td>1.443850</td>\n",
       "    </tr>\n",
       "  </tbody>\n",
       "</table>\n",
       "</div>"
      ],
      "text/plain": [
       "    순위   법정동명   한사람당동물수\n",
       "1    1  매산로1가  1.674157\n",
       "2    2     교동  1.584906\n",
       "3    3   하광교동  1.583333\n",
       "4    4  팔달로1가  1.529412\n",
       "5    5    북수동  1.514706\n",
       "6    6     영동  1.500000\n",
       "7    7     중동  1.500000\n",
       "8    8    남수동  1.483333\n",
       "9    9  팔달로3가  1.454545\n",
       "10  10    이목동  1.443850"
      ]
     },
     "execution_count": 19,
     "metadata": {},
     "output_type": "execute_result"
    }
   ],
   "source": [
    "Chart_fin_2.head(10)"
   ]
  },
  {
   "cell_type": "markdown",
   "metadata": {},
   "source": [
    "### 등록품종수 많은 순으로 정렬한 표"
   ]
  },
  {
   "cell_type": "code",
   "execution_count": 20,
   "metadata": {},
   "outputs": [
    {
     "data": {
      "text/html": [
       "<div>\n",
       "<style scoped>\n",
       "    .dataframe tbody tr th:only-of-type {\n",
       "        vertical-align: middle;\n",
       "    }\n",
       "\n",
       "    .dataframe tbody tr th {\n",
       "        vertical-align: top;\n",
       "    }\n",
       "\n",
       "    .dataframe thead th {\n",
       "        text-align: right;\n",
       "    }\n",
       "</style>\n",
       "<table border=\"1\" class=\"dataframe\">\n",
       "  <thead>\n",
       "    <tr style=\"text-align: right;\">\n",
       "      <th></th>\n",
       "      <th>순위</th>\n",
       "      <th>법정동명</th>\n",
       "      <th>등록품종수</th>\n",
       "    </tr>\n",
       "  </thead>\n",
       "  <tbody>\n",
       "    <tr>\n",
       "      <th>1</th>\n",
       "      <td>1</td>\n",
       "      <td>세류동</td>\n",
       "      <td>80</td>\n",
       "    </tr>\n",
       "    <tr>\n",
       "      <th>2</th>\n",
       "      <td>2</td>\n",
       "      <td>매탄동</td>\n",
       "      <td>78</td>\n",
       "    </tr>\n",
       "    <tr>\n",
       "      <th>3</th>\n",
       "      <td>3</td>\n",
       "      <td>권선동</td>\n",
       "      <td>74</td>\n",
       "    </tr>\n",
       "    <tr>\n",
       "      <th>4</th>\n",
       "      <td>4</td>\n",
       "      <td>정자동</td>\n",
       "      <td>73</td>\n",
       "    </tr>\n",
       "    <tr>\n",
       "      <th>5</th>\n",
       "      <td>5</td>\n",
       "      <td>인계동</td>\n",
       "      <td>71</td>\n",
       "    </tr>\n",
       "    <tr>\n",
       "      <th>6</th>\n",
       "      <td>6</td>\n",
       "      <td>영통동</td>\n",
       "      <td>69</td>\n",
       "    </tr>\n",
       "    <tr>\n",
       "      <th>7</th>\n",
       "      <td>7</td>\n",
       "      <td>조원동</td>\n",
       "      <td>68</td>\n",
       "    </tr>\n",
       "    <tr>\n",
       "      <th>8</th>\n",
       "      <td>8</td>\n",
       "      <td>우만동</td>\n",
       "      <td>64</td>\n",
       "    </tr>\n",
       "    <tr>\n",
       "      <th>9</th>\n",
       "      <td>9</td>\n",
       "      <td>이의동</td>\n",
       "      <td>63</td>\n",
       "    </tr>\n",
       "    <tr>\n",
       "      <th>10</th>\n",
       "      <td>10</td>\n",
       "      <td>금곡동</td>\n",
       "      <td>60</td>\n",
       "    </tr>\n",
       "  </tbody>\n",
       "</table>\n",
       "</div>"
      ],
      "text/plain": [
       "    순위 법정동명  등록품종수\n",
       "1    1  세류동     80\n",
       "2    2  매탄동     78\n",
       "3    3  권선동     74\n",
       "4    4  정자동     73\n",
       "5    5  인계동     71\n",
       "6    6  영통동     69\n",
       "7    7  조원동     68\n",
       "8    8  우만동     64\n",
       "9    9  이의동     63\n",
       "10  10  금곡동     60"
      ]
     },
     "execution_count": 20,
     "metadata": {},
     "output_type": "execute_result"
    }
   ],
   "source": [
    "Chart_fin_3.head(10)"
   ]
  }
 ],
 "metadata": {
  "kernelspec": {
   "display_name": "Python 3 (ipykernel)",
   "language": "python",
   "name": "python3"
  },
  "language_info": {
   "codemirror_mode": {
    "name": "ipython",
    "version": 3
   },
   "file_extension": ".py",
   "mimetype": "text/x-python",
   "name": "python",
   "nbconvert_exporter": "python",
   "pygments_lexer": "ipython3",
   "version": "3.11.3"
  }
 },
 "nbformat": 4,
 "nbformat_minor": 4
}
